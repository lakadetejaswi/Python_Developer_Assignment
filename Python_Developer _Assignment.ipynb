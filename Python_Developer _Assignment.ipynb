{
 "cells": [
  {
   "cell_type": "markdown",
   "id": "2c836f41",
   "metadata": {},
   "source": [
    "## Q.1 The minimum time required to send all the groups to the destination"
   ]
  },
  {
   "cell_type": "code",
   "execution_count": 16,
   "id": "2fa5dbfe",
   "metadata": {},
   "outputs": [
    {
     "name": "stdout",
     "output_type": "stream",
     "text": [
      "24\n"
     ]
    }
   ],
   "source": [
    "def minimum_time_to_send_groups(N, groups, M, planes):\n",
    "    groups.sort(reverse=True)  # Sort groups in descending order\n",
    "    planes.sort(reverse=True)  # Sort planes in descending order\n",
    "    \n",
    "    total_time = 0\n",
    "    group_idx = 0\n",
    "\n",
    "    for plane_capacity in planes:\n",
    "        while group_idx < N and groups[group_idx] <= plane_capacity:\n",
    "            plane_capacity -= groups[group_idx]\n",
    "            group_idx += 1\n",
    "\n",
    "        total_time += 2 * plane_capacity  # Round trip from source to destination and back to source\n",
    "\n",
    "    return total_time\n",
    "\n",
    "# Example input\n",
    "N = 4\n",
    "groups = [8, 1, 6, 9]\n",
    "M = 3\n",
    "planes = [7, 3, 2]\n",
    "\n",
    "# Calculate the minimum time required to send all groups to the destination\n",
    "min_time = minimum_time_to_send_groups(N, groups, M, planes)\n",
    "print(min_time)\n"
   ]
  },
  {
   "cell_type": "markdown",
   "id": "a00186de",
   "metadata": {},
   "source": [
    "## Q.2 Find the number of different sets of candy packets that Alice can buy"
   ]
  },
  {
   "cell_type": "code",
   "execution_count": 20,
   "id": "3dfc043b",
   "metadata": {},
   "outputs": [
    {
     "name": "stdout",
     "output_type": "stream",
     "text": [
      "3\n"
     ]
    }
   ],
   "source": [
    "def count_different_sets(N):\n",
    "    count = 0\n",
    "    i = 1\n",
    "\n",
    "    while True:\n",
    "        # Calculate the sum of consecutive odd numbers starting from i\n",
    "        curr_sum = (i * (i + 1)) // 2\n",
    "\n",
    "        if curr_sum > N:\n",
    "            break\n",
    "\n",
    "        if (N - curr_sum) % i == 0:\n",
    "            count += 1\n",
    "\n",
    "        i += 2  # Move to the next odd number\n",
    "\n",
    "    return count\n",
    "\n",
    "# Example input\n",
    "N = 15\n",
    "\n",
    "# Calculate the number of different sets of candy packets Alice can buy\n",
    "num_sets = count_different_sets(N)\n",
    "print(num_sets)\n"
   ]
  },
  {
   "cell_type": "markdown",
   "id": "79420f23",
   "metadata": {},
   "source": [
    "## Q.23 Write down a Python program to calculate the factorial of a given integer. Calculate the factorial using recursion and call the factorial function using thread\n"
   ]
  },
  {
   "cell_type": "code",
   "execution_count": 21,
   "id": "77607bca",
   "metadata": {},
   "outputs": [
    {
     "name": "stdout",
     "output_type": "stream",
     "text": [
      "The factorial of 5 is: 120\n"
     ]
    }
   ],
   "source": [
    "import threading\n",
    "\n",
    "def factorial(n):\n",
    "    if n == 0 or n == 1:\n",
    "        return 1\n",
    "    else:\n",
    "        return n * factorial(n - 1)\n",
    "\n",
    "def factorial_with_thread(n):\n",
    "    # Create a separate thread to calculate the factorial\n",
    "    thread = threading.Thread(target=factorial_thread, args=(n,))\n",
    "    thread.start()\n",
    "    thread.join()\n",
    "\n",
    "def factorial_thread(n):\n",
    "    result = factorial(n)\n",
    "    print(f\"The factorial of {n} is: {result}\")\n",
    "\n",
    "# Example input\n",
    "num = 5\n",
    "\n",
    "# Calculate the factorial using recursion and call the factorial function using a separate thread\n",
    "factorial_with_thread(num)\n"
   ]
  }
 ],
 "metadata": {
  "kernelspec": {
   "display_name": "Python 3 (ipykernel)",
   "language": "python",
   "name": "python3"
  },
  "language_info": {
   "codemirror_mode": {
    "name": "ipython",
    "version": 3
   },
   "file_extension": ".py",
   "mimetype": "text/x-python",
   "name": "python",
   "nbconvert_exporter": "python",
   "pygments_lexer": "ipython3",
   "version": "3.10.7"
  }
 },
 "nbformat": 4,
 "nbformat_minor": 5
}
